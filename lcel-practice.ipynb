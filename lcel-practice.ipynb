{
 "cells": [
  {
   "cell_type": "code",
   "execution_count": 3,
   "metadata": {},
   "outputs": [
    {
     "name": "stdout",
     "output_type": "stream",
     "text": [
      "In the realm of code, where languages reign,\n",
      "There's one that stands out, never in vain.\n",
      "Java, the mighty, with syntax so clean,\n",
      "A language of power, a programmer's dream.\n",
      "\n",
      "With objects and classes, it's built to last,\n",
      "A platform so versatile, from present to past.\n",
      "From desktop to server, it runs with ease,\n",
      "A language so robust, it aims to please.\n",
      "\n",
      "Its memory management, a thing of grace,\n",
      "Garbage collection, in its rightful place.\n",
      "With threads and exceptions, it handles it all,\n",
      "Java, the language, will never fall.\n",
      "\n",
      "So raise a toast to this language so grand,\n",
      "In the world of programming, it takes a stand.\n",
      "Java, the beacon, shining so bright,\n",
      "Guiding us forward, with all its might.This poem celebrates the programming language Java, highlighting its clean syntax, power, versatility, and robustness. It praises Java's memory management, garbage collection, handling of threads and exceptions, and its enduring presence in the world of programming. The poem portrays Java as a beacon guiding programmers forward with its strength and reliability."
     ]
    },
    {
     "data": {
      "text/plain": [
       "AIMessageChunk(content=\"This poem celebrates the programming language Java, highlighting its clean syntax, power, versatility, and robustness. It praises Java's memory management, garbage collection, handling of threads and exceptions, and its enduring presence in the world of programming. The poem portrays Java as a beacon guiding programmers forward with its strength and reliability.\")"
      ]
     },
     "execution_count": 3,
     "metadata": {},
     "output_type": "execute_result"
    }
   ],
   "source": [
    "from langchain.chat_models.openai import ChatOpenAI\n",
    "from langchain.prompts import ChatPromptTemplate\n",
    "from langchain.callbacks import StreamingStdOutCallbackHandler\n",
    "chat = ChatOpenAI(\n",
    "    temperature=0.1, \n",
    "    streaming=True,\n",
    "    callbacks=[StreamingStdOutCallbackHandler()]\n",
    ")\n",
    "\n",
    "\n",
    "poetry_template = ChatPromptTemplate.from_messages([\n",
    "    (\"system\",\"You are a poetry who writes a poem about programming languages.\"),\n",
    "    (\"human\", \"Write a poem about {programming_language}\"),\n",
    "])\n",
    "\n",
    "interpreter_template = ChatPromptTemplate.from_messages([\n",
    "    (\"system\", \"Your task is to interprete a poetry about programming languages.\"),\n",
    "    (\"human\", \"{poem}\"),\n",
    "])\n",
    "\n",
    "poetry_chain = poetry_template | chat\n",
    "interpreter_chain = interpreter_template | chat\n",
    "\n",
    "final_chain =  {\"poem\": poetry_chain} | interpreter_chain\n",
    "\n",
    "final_chain.invoke({\n",
    "    \"programming_language\": \"java\"\n",
    "})"
   ]
  },
  {
   "cell_type": "code",
   "execution_count": null,
   "metadata": {},
   "outputs": [],
   "source": []
  }
 ],
 "metadata": {
  "kernelspec": {
   "display_name": "env",
   "language": "python",
   "name": "python3"
  },
  "language_info": {
   "codemirror_mode": {
    "name": "ipython",
    "version": 3
   },
   "file_extension": ".py",
   "mimetype": "text/x-python",
   "name": "python",
   "nbconvert_exporter": "python",
   "pygments_lexer": "ipython3",
   "version": "3.11.6"
  }
 },
 "nbformat": 4,
 "nbformat_minor": 2
}
