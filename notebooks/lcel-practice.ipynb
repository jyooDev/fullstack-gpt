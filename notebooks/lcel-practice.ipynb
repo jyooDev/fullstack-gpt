{
 "cells": [
  {
   "cell_type": "code",
   "execution_count": 4,
   "metadata": {},
   "outputs": [
    {
     "name": "stdout",
     "output_type": "stream",
     "text": [
      "In the realm of code, where languages reign,\n",
      "Java stands tall, a powerful domain.\n",
      "With syntax sleek and structure sound,\n",
      "It weaves its magic all around.\n",
      "\n",
      "From desktop apps to web design,\n",
      "Java's versatility truly shines.\n",
      "Object-oriented, it leads the way,\n",
      "In the world of programming, it holds sway.\n",
      "\n",
      "With its virtual machine, it runs so smooth,\n",
      "Handling tasks with finesse and groove.\n",
      "Robust and secure, it never fails,\n",
      "In the hands of developers, it prevails.\n",
      "\n",
      "So here's to Java, a language so grand,\n",
      "Guiding us with a steady hand.\n",
      "In the vast landscape of code and lore,\n",
      "Java stands strong forevermore.This poem celebrates the programming language Java, portraying it as a powerful and versatile language that excels in various applications, from desktop to web design. The poem highlights Java's object-oriented nature, its smooth performance through a virtual machine, and its robust security features. It praises Java for its reliability and influence in the world of programming, depicting it as a guiding force in the vast landscape of coding. The poem concludes with a tribute to Java's enduring strength and significance in the realm of programming languages."
     ]
    },
    {
     "data": {
      "text/plain": [
       "AIMessageChunk(content=\"This poem celebrates the programming language Java, portraying it as a powerful and versatile language that excels in various applications, from desktop to web design. The poem highlights Java's object-oriented nature, its smooth performance through a virtual machine, and its robust security features. It praises Java for its reliability and influence in the world of programming, depicting it as a guiding force in the vast landscape of coding. The poem concludes with a tribute to Java's enduring strength and significance in the realm of programming languages.\")"
      ]
     },
     "execution_count": 4,
     "metadata": {},
     "output_type": "execute_result"
    }
   ],
   "source": [
    "from langchain.chat_models.openai import ChatOpenAI\n",
    "from langchain.prompts import ChatPromptTemplate\n",
    "from langchain.callbacks import StreamingStdOutCallbackHandler\n",
    "llm = ChatOpenAI(\n",
    "    temperature=0.1, \n",
    "    streaming=True,\n",
    "    callbacks=[StreamingStdOutCallbackHandler()]\n",
    ")\n",
    "\n",
    "\n",
    "poet_template = ChatPromptTemplate.from_messages([\n",
    "    (\"system\",\"You are a poetry who writes a poem about programming languages.\"),\n",
    "    (\"human\", \"Write a poem about {programming_language}\"),\n",
    "])\n",
    "\n",
    "interpreter_template = ChatPromptTemplate.from_messages([\n",
    "    (\"system\", \"Your task is to interprete a poetry about programming languages.\"),\n",
    "    (\"human\", \"{poem}\"),\n",
    "])\n",
    "\n",
    "poet_chain = poet_template | llm\n",
    "interpreter_chain = interpreter_template | llm\n",
    "\n",
    "final_chain =  {\"poem\": poet_chain } | interpreter_chain\n",
    "\n",
    "final_chain.invoke({\n",
    "    \"programming_language\": \"java\"\n",
    "})"
   ]
  },
  {
   "cell_type": "code",
   "execution_count": null,
   "metadata": {},
   "outputs": [],
   "source": []
  }
 ],
 "metadata": {
  "kernelspec": {
   "display_name": "env",
   "language": "python",
   "name": "python3"
  },
  "language_info": {
   "codemirror_mode": {
    "name": "ipython",
    "version": 3
   },
   "file_extension": ".py",
   "mimetype": "text/x-python",
   "name": "python",
   "nbconvert_exporter": "python",
   "pygments_lexer": "ipython3",
   "version": "3.11.6"
  }
 },
 "nbformat": 4,
 "nbformat_minor": 2
}
