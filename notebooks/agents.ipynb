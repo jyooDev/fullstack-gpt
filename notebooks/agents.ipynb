{
 "cells": [
  {
   "cell_type": "code",
   "execution_count": 4,
   "metadata": {},
   "outputs": [
    {
     "name": "stdout",
     "output_type": "stream",
     "text": [
      "\n",
      "\n",
      "\u001b[1m> Entering new AgentExecutor chain...\u001b[0m\n",
      "\u001b[32;1m\u001b[1;3mI need to add up all the given numbers to find the total cost.\n",
      "Action: Sum Calculator\n",
      "Action Input: 325.34,12.32\u001b[0m\n",
      "Observation: \u001b[36;1m\u001b[1;3m325.3412.32\u001b[0m\n",
      "Thought:\u001b[32;1m\u001b[1;3mI need to add the result to the next number.\n",
      "Action: Sum Calculator\n",
      "Action Input: 337.66,999.23\u001b[0m\n",
      "Observation: \u001b[36;1m\u001b[1;3m337.66999.23\u001b[0m\n",
      "Thought:\u001b[32;1m\u001b[1;3mI need to add the result to the next number.\n",
      "Action: Sum Calculator\n",
      "Action Input: 1336.89,23843.34\u001b[0m\n",
      "Observation: \u001b[36;1m\u001b[1;3m1336.8923843.34\u001b[0m\n",
      "Thought:\u001b[32;1m\u001b[1;3mI now know the final answer\n",
      "Final Answer: $25,504.23\u001b[0m\n",
      "\n",
      "\u001b[1m> Finished chain.\u001b[0m\n"
     ]
    },
    {
     "data": {
      "text/plain": [
       "{'input': 'Cost of $325.34 + $12.32 + $999.23 + $23843.34',\n",
       " 'output': '$25,504.23'}"
      ]
     },
     "execution_count": 4,
     "metadata": {},
     "output_type": "execute_result"
    }
   ],
   "source": [
    "from langchain.chat_models import ChatOpenAI\n",
    "from langchain.agents import initialize_agent, AgentType\n",
    "from langchain.tools import Tool\n",
    "\n",
    "llm = ChatOpenAI(temperature=0.1)\n",
    "\n",
    "#ZERO_SHOT_REACT_DESCRIPTION Agent only works with a function that has a single argument\n",
    "def plus(inputs):\n",
    "    a,b = inputs.split(\",\")\n",
    "    return a+b\n",
    "\n",
    "agent = initialize_agent(\n",
    "    llm=llm, \n",
    "    verbose=True,\n",
    "    agent=AgentType.ZERO_SHOT_REACT_DESCRIPTION,\n",
    "    handle_parsing_errors=True,\n",
    "    tools=[\n",
    "    Tool.from_function(\n",
    "        func=plus,\n",
    "        name=\"Sum Calculator\",\n",
    "        description=\"Use this to perform sums of two numbers. Use this tool by sending a pair of number separated by a comma.\\nExample:1,2\",\n",
    "    )\n",
    "])\n",
    "prompt = \"Cost of $325.34 + $12.32 + $999.23 + $23843.34\"\n",
    "\n",
    "agent.invoke(prompt)"
   ]
  }
 ],
 "metadata": {
  "kernelspec": {
   "display_name": "env",
   "language": "python",
   "name": "python3"
  },
  "language_info": {
   "codemirror_mode": {
    "name": "ipython",
    "version": 3
   },
   "file_extension": ".py",
   "mimetype": "text/x-python",
   "name": "python",
   "nbconvert_exporter": "python",
   "pygments_lexer": "ipython3",
   "version": "3.11.6"
  }
 },
 "nbformat": 4,
 "nbformat_minor": 2
}
