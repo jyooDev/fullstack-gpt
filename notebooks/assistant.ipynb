{
 "cells": [
  {
   "cell_type": "code",
   "execution_count": 3,
   "metadata": {},
   "outputs": [],
   "source": [
    "from langchain.utilities.duckduckgo_search import DuckDuckGoSearchAPIWrapper\n",
    "import yfinance\n",
    "import json\n",
    "\n",
    "def get_ticker(inputs):\n",
    "    ddg = DuckDuckGoSearchAPIWrapper()\n",
    "    company_name = inputs[\"company_name\"]\n",
    "    ddg.run(f\"Ticker symbole of {company_name}\")\n",
    "\n",
    "def get_income_statement(inputs):\n",
    "    ticker = inputs[\"ticker_symbol\"]\n",
    "    stock = yfinance.Ticker(ticker)\n",
    "    return json.dumps(stock.income_stmt.to_json())\n",
    "\n",
    "def get_balance_sheet(inputs):\n",
    "    ticker = inputs[\"ticker_symbol\"]\n",
    "    stock = yfinance.Ticker(ticker)\n",
    "    return json.dumps(stock.balance_sheet.to_json())\n",
    "\n",
    "def get_performance(inputs):\n",
    "    ticker = inputs[\"ticker_symbol\"]\n",
    "    stock = yfinance.Ticker(ticker)\n",
    "    return json.dumps(stock.history(period=\"3mo\").to_json)\n",
    "\n",
    "functions_map = {\n",
    "    \"get_ticker\": get_ticker,\n",
    "    \"get_income_statement\": get_income_statement,\n",
    "    \"get_balance_sheet\": get_balance_sheet,\n",
    "    \"get_performance\": get_performance,\n",
    "}\n",
    "\n",
    "functions = [\n",
    "    {\n",
    "        \"type\": \"function\",\n",
    "        \"function\": {\n",
    "            \"name\": \"get_ticker\",\n",
    "            \"description\": \"Given the name of a company returns its ticker symbol\",\n",
    "            \"parameters\":{\n",
    "                \"type\":\"object\",\n",
    "                \"properties\":{\n",
    "                    \"company_name\":{\n",
    "                        \"type\": \"string\",\n",
    "                        \"description\": \"The name of the company\"\n",
    "                    }\n",
    "                },\n",
    "                \"required\": [\"company_name\"]\n",
    "            }\n",
    "        }\n",
    "    },\n",
    "    {\n",
    "        \"type\": \"function\",\n",
    "        \"function\": {\n",
    "            \"name\": \"get_income_statement\",\n",
    "            \"description\": \"Given the ticker symbol (i.e. AAPL) returns the company's income statement\",\n",
    "            \"parameters\":{\n",
    "                \"type\":\"object\",\n",
    "                \"properties\":{\n",
    "                    \"ticker_symbol\":{\n",
    "                        \"type\": \"string\",\n",
    "                        \"description\": \"Ticker symbol of the company\"\n",
    "                    }\n",
    "                },\n",
    "                \"required\": [\"ticker_symbol\"]\n",
    "            }\n",
    "        }\n",
    "    },\n",
    "    {\n",
    "        \"type\": \"function\",\n",
    "        \"function\": {\n",
    "            \"name\": \"get_balance_sheet\",\n",
    "            \"description\": \"Given the ticker symbol (i.e. AAPL) returns the company's balance sheet\",\n",
    "            \"parameters\":{\n",
    "                \"type\":\"object\",\n",
    "                \"properties\":{\n",
    "                    \"ticker_symbol\":{\n",
    "                        \"type\": \"string\",\n",
    "                        \"description\": \"Ticker symbol of the company\"\n",
    "                    }\n",
    "                },\n",
    "                \"required\": [\"ticker_symbol\"]\n",
    "            }\n",
    "        }\n",
    "    },\n",
    "    {\n",
    "        \"type\": \"function\",\n",
    "        \"function\": {\n",
    "            \"name\": \"get_performance\",\n",
    "            \"description\": \"Given the ticker symbol (i.e. AAPL) returns the performance of the stock for the last 100 days\",\n",
    "            \"parameters\":{\n",
    "                \"type\":\"object\",\n",
    "                \"properties\":{\n",
    "                    \"ticker_symbol\":{\n",
    "                        \"type\": \"string\",\n",
    "                        \"description\": \"Ticker symbol of the company\"\n",
    "                    }\n",
    "                },\n",
    "                \"required\": [\"ticker_symbol\"]\n",
    "            }\n",
    "        }\n",
    "    }\n",
    "]"
   ]
  },
  {
   "cell_type": "code",
   "execution_count": 24,
   "metadata": {},
   "outputs": [
    {
     "data": {
      "text/plain": [
       "Assistant(id='asst_88vAAJYguWMbk5QkEuzWL2Mo', created_at=1726323518, description='You help users do research on publicly traded companies and you help them decide if they should buy the stock or not.', instructions=None, metadata={}, model='gpt-4o-mini', name='Investor assistant', object='assistant', tools=[FunctionTool(function=FunctionDefinition(name='get_ticker', description='Given the name of a company returns its ticker symbol', parameters={'type': 'object', 'properties': {'company_name': {'type': 'string', 'description': 'The name of the company'}}, 'required': ['company_name']}, strict=False), type='function'), FunctionTool(function=FunctionDefinition(name='get_income_statement', description=\"Given the ticker symbol (i.e. AAPL) returns the company's income statement\", parameters={'type': 'object', 'properties': {'ticker_symbol': {'type': 'string', 'description': 'Ticker symbol of the company'}}, 'required': ['ticker_symbol']}, strict=False), type='function'), FunctionTool(function=FunctionDefinition(name='get_balance_sheet', description=\"Given the ticker symbol (i.e. AAPL) returns the company's balance sheet\", parameters={'type': 'object', 'properties': {'ticker_symbol': {'type': 'string', 'description': 'Ticker symbol of the company'}}, 'required': ['ticker_symbol']}, strict=False), type='function'), FunctionTool(function=FunctionDefinition(name='get_performance', description='Given the ticker symbol (i.e. AAPL) returns the performance of the stock for the last 100 days', parameters={'type': 'object', 'properties': {'ticker_symbol': {'type': 'string', 'description': 'Ticker symbol of the company'}}, 'required': ['ticker_symbol']}, strict=False), type='function')], response_format='auto', temperature=1.0, tool_resources=ToolResources(code_interpreter=None, file_search=None), top_p=1.0)"
      ]
     },
     "execution_count": 24,
     "metadata": {},
     "output_type": "execute_result"
    }
   ],
   "source": [
    "from openai import OpenAI\n",
    "\n",
    "client = OpenAI()\n",
    "\n",
    "assistant = client.beta.assistants.create(\n",
    "    name = \"Investor assistant\",\n",
    "    description=\"You help users do research on publicly traded companies and you help them decide if they should buy the stock or not.\",\n",
    "    model=\"gpt-4o-mini\",\n",
    "    tools=functions\n",
    ")\n",
    "\n",
    "assistant"
   ]
  },
  {
   "cell_type": "code",
   "execution_count": 8,
   "metadata": {},
   "outputs": [
    {
     "data": {
      "text/plain": [
       "Thread(id='thread_V1MrcYUZZ8SkUIRsWDedkGdl', created_at=1726320321, metadata={}, object='thread', tool_resources=ToolResources(code_interpreter=None, file_search=None))"
      ]
     },
     "execution_count": 8,
     "metadata": {},
     "output_type": "execute_result"
    }
   ],
   "source": [
    "thread = client.beta.threads.create(\n",
    "  messages = [\n",
    "    {\n",
    "      \"role\": \"user\",\n",
    "      \"content\":\"I want to know if the Apple stock is a good buy\",\n",
    "    }\n",
    "  ]    \n",
    ")\n",
    "thread"
   ]
  },
  {
   "cell_type": "code",
   "execution_count": 16,
   "metadata": {},
   "outputs": [
    {
     "data": {
      "text/plain": [
       "Run(id='run_ENhZutan9CZAwOyiX7AzhHqR', assistant_id='asst_imTzpy0S2rdQbvmEm1RHxSXw', cancelled_at=None, completed_at=None, created_at=1726320412, expires_at=1726321012, failed_at=None, incomplete_details=None, instructions=None, last_error=None, max_completion_tokens=None, max_prompt_tokens=None, metadata={}, model='gpt-4o-mini', object='thread.run', parallel_tool_calls=True, required_action=None, response_format='auto', started_at=None, status='queued', thread_id='thread_V1MrcYUZZ8SkUIRsWDedkGdl', tool_choice='auto', tools=[FunctionTool(function=FunctionDefinition(name='get_ticker', description='Given the name of a company returns its ticker symbol', parameters={'type': 'object', 'properties': {'company_name': {'type': 'string', 'description': 'The name of the company'}}, 'required': ['company_name']}, strict=False), type='function'), FunctionTool(function=FunctionDefinition(name='get_income_statement', description=\"Given the ticker symbol (i.e. AAPL) returns the company's income statement\", parameters={'type': 'object', 'properties': {'ticker_symbol': {'type': 'string', 'description': 'Ticker symbol of the company'}}, 'required': ['ticker_symbol']}, strict=False), type='function'), FunctionTool(function=FunctionDefinition(name='get_balance_sheet', description=\"Given the ticker symbol (i.e. AAPL) returns the company's balance sheet\", parameters={'type': 'object', 'properties': {'ticker_symbol': {'type': 'string', 'description': 'Ticker symbol of the company'}}, 'required': ['ticker_symbol']}, strict=False), type='function'), FunctionTool(function=FunctionDefinition(name='get_performance', description='Given the ticker symbol (i.e. AAPL) returns the performance of the stock for the last 100 days', parameters={'type': 'object', 'properties': {'ticker_symbol': {'type': 'string', 'description': 'Ticker symbol of the company'}}, 'required': ['ticker_symbol']}, strict=False), type='function')], truncation_strategy=TruncationStrategy(type='auto', last_messages=None), usage=None, temperature=1.0, top_p=1.0, tool_resources={})"
      ]
     },
     "execution_count": 16,
     "metadata": {},
     "output_type": "execute_result"
    }
   ],
   "source": [
    "run = client.beta.threads.runs.create(\n",
    "  thread_id=thread.id,\n",
    "  assistant_id=assistant.id\n",
    ")\n",
    "run"
   ]
  },
  {
   "cell_type": "code",
   "execution_count": 21,
   "metadata": {},
   "outputs": [
    {
     "data": {
      "text/plain": [
       "'queued'"
      ]
     },
     "execution_count": 21,
     "metadata": {},
     "output_type": "execute_result"
    }
   ],
   "source": [
    "run.status"
   ]
  },
  {
   "cell_type": "code",
   "execution_count": 14,
   "metadata": {},
   "outputs": [],
   "source": [
    "def get_run(run_id, thread_id):\n",
    "    return client.beta.threads.runs.retrieve(\n",
    "        run_id=run_id,\n",
    "        thread_id=thread_id,\n",
    "    )\n",
    "\n",
    "def send_message(thread_id, content):\n",
    "    return client.beta.threads.messages.create(\n",
    "        thread_id=thread_id, role=\"user\", content=content\n",
    "    )\n",
    "\n",
    "def get_messages(thread_id):\n",
    "    messages = client.beta.threads.messages.list(thread_id=thread_id)\n",
    "    messages = list(messages)\n",
    "    messages.reverse()\n",
    "    for message in messages:\n",
    "        print(f\"{message.role}: {message.content[0].text.value}\")\n",
    "\n",
    "\n",
    "def get_tool_outputs(run_id, thread_id):\n",
    "    run = get_run(run_id, thread_id)\n",
    "    outputs = []\n",
    "    for action in run.required_action.submit_tool_outputs.tool_calls:\n",
    "        action_id = action.id\n",
    "        function = action.function\n",
    "        print(f\"Calling function: {function.name} with arg {function.arguments}\")\n",
    "        outputs.append(\n",
    "            {\n",
    "                \"output\": functions_map[function.name](json.loads(function.arguments)),\n",
    "                \"tool_call_id\": action_id,\n",
    "            }\n",
    "        )\n",
    "    return outputs\n",
    "\n",
    "\n",
    "def submit_tool_outputs(run_id, thread_id):\n",
    "    output = get_tool_outputs(run_id, thread_id)\n",
    "    return client.beta.threads.runs.submit_tool_outputs(\n",
    "        run_id=run_id, thread_id=thread_id, tool_outputs=output\n",
    "    )"
   ]
  },
  {
   "cell_type": "code",
   "execution_count": 22,
   "metadata": {},
   "outputs": [
    {
     "ename": "AttributeError",
     "evalue": "'NoneType' object has no attribute 'submit_tool_outputs'",
     "output_type": "error",
     "traceback": [
      "\u001b[1;31m---------------------------------------------------------------------------\u001b[0m",
      "\u001b[1;31mAttributeError\u001b[0m                            Traceback (most recent call last)",
      "Cell \u001b[1;32mIn[22], line 1\u001b[0m\n\u001b[1;32m----> 1\u001b[0m \u001b[43msubmit_tool_outputs\u001b[49m\u001b[43m(\u001b[49m\u001b[43mrun\u001b[49m\u001b[38;5;241;43m.\u001b[39;49m\u001b[43mid\u001b[49m\u001b[43m,\u001b[49m\u001b[43m \u001b[49m\u001b[43mthread\u001b[49m\u001b[38;5;241;43m.\u001b[39;49m\u001b[43mid\u001b[49m\u001b[43m)\u001b[49m\n",
      "Cell \u001b[1;32mIn[14], line 37\u001b[0m, in \u001b[0;36msubmit_tool_outputs\u001b[1;34m(run_id, thread_id)\u001b[0m\n\u001b[0;32m     36\u001b[0m \u001b[38;5;28;01mdef\u001b[39;00m \u001b[38;5;21msubmit_tool_outputs\u001b[39m(run_id, thread_id):\n\u001b[1;32m---> 37\u001b[0m     output \u001b[38;5;241m=\u001b[39m \u001b[43mget_tool_outputs\u001b[49m\u001b[43m(\u001b[49m\u001b[43mrun_id\u001b[49m\u001b[43m,\u001b[49m\u001b[43m \u001b[49m\u001b[43mthread_id\u001b[49m\u001b[43m)\u001b[49m\n\u001b[0;32m     38\u001b[0m     \u001b[38;5;28;01mreturn\u001b[39;00m client\u001b[38;5;241m.\u001b[39mbeta\u001b[38;5;241m.\u001b[39mthreads\u001b[38;5;241m.\u001b[39mruns\u001b[38;5;241m.\u001b[39msubmit_tool_outputs(\n\u001b[0;32m     39\u001b[0m         run_id\u001b[38;5;241m=\u001b[39mrun_id, thread_id\u001b[38;5;241m=\u001b[39mthread_id, tool_outputs\u001b[38;5;241m=\u001b[39moutput\n\u001b[0;32m     40\u001b[0m     )\n",
      "Cell \u001b[1;32mIn[14], line 23\u001b[0m, in \u001b[0;36mget_tool_outputs\u001b[1;34m(run_id, thread_id)\u001b[0m\n\u001b[0;32m     21\u001b[0m run \u001b[38;5;241m=\u001b[39m get_run(run_id, thread\u001b[38;5;241m.\u001b[39mid)\n\u001b[0;32m     22\u001b[0m outputs \u001b[38;5;241m=\u001b[39m []\n\u001b[1;32m---> 23\u001b[0m \u001b[38;5;28;01mfor\u001b[39;00m action \u001b[38;5;129;01min\u001b[39;00m \u001b[43mrun\u001b[49m\u001b[38;5;241;43m.\u001b[39;49m\u001b[43mrequired_action\u001b[49m\u001b[38;5;241;43m.\u001b[39;49m\u001b[43msubmit_tool_outputs\u001b[49m\u001b[38;5;241m.\u001b[39mtool_calls:\n\u001b[0;32m     24\u001b[0m     action_id \u001b[38;5;241m=\u001b[39m action\u001b[38;5;241m.\u001b[39mid\n\u001b[0;32m     25\u001b[0m     function \u001b[38;5;241m=\u001b[39m action\u001b[38;5;241m.\u001b[39mfunction\n",
      "\u001b[1;31mAttributeError\u001b[0m: 'NoneType' object has no attribute 'submit_tool_outputs'"
     ]
    }
   ],
   "source": [
    "submit_tool_outputs(run.id, thread.id)"
   ]
  },
  {
   "cell_type": "code",
   "execution_count": 23,
   "metadata": {},
   "outputs": [
    {
     "name": "stdout",
     "output_type": "stream",
     "text": [
      "user: I want to know if the Apple stock is a good buy\n",
      "assistant: To determine if Apple stock (AAPL) is a good buy, we should look at a few key financial metrics and recent performance data. This usually includes:\n",
      "\n",
      "1. **Income Statement**: To evaluate revenue and profit trends.\n",
      "2. **Balance Sheet**: To assess assets, liabilities, and overall financial health.\n",
      "3. **Performance**: To understand how the stock has performed recently.\n",
      "\n",
      "I'll gather the income statement, balance sheet, and recent performance data for Apple (AAPL). Please hold on for a moment.\n"
     ]
    }
   ],
   "source": [
    "get_messages(thread.id)"
   ]
  },
  {
   "cell_type": "code",
   "execution_count": 6,
   "metadata": {},
   "outputs": [
    {
     "name": "stdout",
     "output_type": "stream",
     "text": [
      "\n",
      "assistant > function\n",
      "\n"
     ]
    }
   ],
   "source": [
    "from typing_extensions import override\n",
    "from openai import AssistantEventHandler\n",
    " \n",
    "# First, we create a EventHandler class to define\n",
    "# how we want to handle the events in the response stream.\n",
    " \n",
    "class EventHandler(AssistantEventHandler):    \n",
    "  @override\n",
    "  def on_text_created(self, text) -> None:\n",
    "    print(f\"\\nassistant > \", end=\"\", flush=True)\n",
    "      \n",
    "  @override\n",
    "  def on_text_delta(self, delta, snapshot):\n",
    "    print(delta.value, end=\"\", flush=True)\n",
    "      \n",
    "  def on_tool_call_created(self, tool_call):\n",
    "    print(f\"\\nassistant > {tool_call.type}\\n\", flush=True)\n",
    "  \n",
    "  def on_tool_call_delta(self, delta, snapshot):\n",
    "    if delta.type == 'code_interpreter':\n",
    "      if delta.code_interpreter.input:\n",
    "        print(delta.code_interpreter.input, end=\"\", flush=True)\n",
    "      if delta.code_interpreter.outputs:\n",
    "        print(f\"\\n\\noutput >\", flush=True)\n",
    "        for output in delta.code_interpreter.outputs:\n",
    "          if output.type == \"logs\":\n",
    "            print(f\"\\n{output.logs}\", flush=True)\n",
    " \n",
    "# Then, we use the `stream` SDK helper \n",
    "# with the `EventHandler` class to create the Run \n",
    "# and stream the response.\n",
    " \n",
    "with client.beta.threads.runs.stream(\n",
    "  thread_id=thread.id,\n",
    "  assistant_id=assistant.id,\n",
    "  instructions=\"I want to knwow if Apple is a good buy.\",\n",
    "  event_handler=EventHandler(),\n",
    ") as stream:\n",
    "  stream.until_done()"
   ]
  }
 ],
 "metadata": {
  "kernelspec": {
   "display_name": "base",
   "language": "python",
   "name": "python3"
  },
  "language_info": {
   "codemirror_mode": {
    "name": "ipython",
    "version": 3
   },
   "file_extension": ".py",
   "mimetype": "text/x-python",
   "name": "python",
   "nbconvert_exporter": "python",
   "pygments_lexer": "ipython3",
   "version": "3.11.6"
  }
 },
 "nbformat": 4,
 "nbformat_minor": 2
}
