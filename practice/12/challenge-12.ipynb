{
 "cells": [
  {
   "cell_type": "code",
   "execution_count": 3,
   "metadata": {},
   "outputs": [],
   "source": [
    "from langchain.chat_models import ChatOpenAI\n",
    "from langchain.memory import ConversationSummaryBufferMemory\n",
    "from langchain.schema.runnable import RunnablePassthrough\n",
    "from langchain.prompts.few_shot import FewShotPromptTemplate\n",
    "from langchain.prompts import PromptTemplate\n",
    "from langchain.cache import SQLiteCache\n",
    "from langchain.chains import LLMChain\n",
    "from langchain.globals import set_llm_cache\n",
    "\n",
    "set_llm_cache(SQLiteCache(\"challenge-12.db\"))\n",
    "\n",
    "llm = ChatOpenAI(\n",
    "    temperature=0.1,\n",
    ")\n",
    "\n",
    "memory = ConversationSummaryBufferMemory(\n",
    "    llm = llm,\n",
    "    max_token_limit=120,\n",
    "    return_messages=True,\n",
    ")\n",
    "\n",
    "examples = [\n",
    "    {\n",
    "        \"movie\": \"Spider Man\",\n",
    "        \"answer\": \"🕷️🕸️🏙️\",\n",
    "    },\n",
    "    {\n",
    "        \"movie\": \"Little Women\",\n",
    "        \"answer\": \"👭📖🎨\",\n",
    "    },\n",
    "    {\n",
    "        \"movie\": \"Lalaland\",\n",
    "        \"answer\": \"🎶💃🌟\",\n",
    "    },\n",
    "    {\n",
    "        \"movie\": \"Top Gun\",\n",
    "        \"answer\": \"✈️🏍️🔥\",\n",
    "    },\n",
    "    {\n",
    "        \"movie\": \"Me Before You\",\n",
    "        \"answer\": \"💑💔🦽\",\n",
    "    },\n",
    "    {\n",
    "        \"movie\": \"Harry Porter\",\n",
    "        \"answer\": \"⚡🧙‍♂️🏰\",\n",
    "    }\n",
    "]\n",
    "\n",
    "example_prompt = PromptTemplate.from_template(\"Human: {movie}\\nAI:{answer}\")\n",
    "\n",
    "prompt = FewShotPromptTemplate(\n",
    "    example_prompt=example_prompt,\n",
    "    examples=examples,\n",
    "    suffix=\"Human: Describe the movie {movie} in three emojis.\",\n",
    "    input_variables=[\"movie\"],\n",
    ")\n",
    "\n",
    "def load_memory(_):\n",
    "    return memory.load_memory_variables({})[\"history\"]\n",
    "\n",
    "chain = RunnablePassthrough.assign(history=load_memory) |  prompt | llm\n",
    "\n",
    "\n",
    "\n",
    "\n"
   ]
  },
  {
   "cell_type": "code",
   "execution_count": 4,
   "metadata": {},
   "outputs": [],
   "source": [
    "def invoke_chain(question):\n",
    "    result = chain.invoke({\"movie\": question})\n",
    "    memory.save_context(\n",
    "        {\"input\": question},\n",
    "        {\"output\": result.content},\n",
    "    )\n",
    "    print(result)"
   ]
  },
  {
   "cell_type": "code",
   "execution_count": 5,
   "metadata": {},
   "outputs": [
    {
     "name": "stdout",
     "output_type": "stream",
     "text": [
      "content='AI: ⚡🔨🌩️'\n"
     ]
    }
   ],
   "source": [
    "invoke_chain(\"Thor\")"
   ]
  },
  {
   "cell_type": "code",
   "execution_count": 7,
   "metadata": {},
   "outputs": [
    {
     "name": "stdout",
     "output_type": "stream",
     "text": [
      "content='AI: 🌎🎥👁️'\n"
     ]
    }
   ],
   "source": [
    "invoke_chain(\"Truman Show\")"
   ]
  },
  {
   "cell_type": "code",
   "execution_count": 8,
   "metadata": {},
   "outputs": [
    {
     "name": "stdout",
     "output_type": "stream",
     "text": [
      "content='AI: 🕷️🕸️🏙️'\n"
     ]
    }
   ],
   "source": [
    "invoke_chain(\"What is the movie I asked about first?\")"
   ]
  }
 ],
 "metadata": {
  "kernelspec": {
   "display_name": "env",
   "language": "python",
   "name": "python3"
  },
  "language_info": {
   "codemirror_mode": {
    "name": "ipython",
    "version": 3
   },
   "file_extension": ".py",
   "mimetype": "text/x-python",
   "name": "python",
   "nbconvert_exporter": "python",
   "pygments_lexer": "ipython3",
   "version": "3.11.6"
  }
 },
 "nbformat": 4,
 "nbformat_minor": 2
}
