{
 "cells": [
  {
   "cell_type": "code",
   "execution_count": 49,
   "metadata": {},
   "outputs": [
    {
     "name": "stdout",
     "output_type": "stream",
     "text": [
      "\u001b[32;1m\u001b[1;3m[llm/start]\u001b[0m \u001b[1m[1:llm:ChatOpenAI] Entering LLM run with input:\n",
      "\u001b[0m{\n",
      "  \"prompts\": [\n",
      "    \"Human: How do you make pizza?\"\n",
      "  ]\n",
      "}\n",
      "\u001b[36;1m\u001b[1;3m[llm/end]\u001b[0m \u001b[1m[1:llm:ChatOpenAI] [2ms] Exiting LLM run with output:\n",
      "\u001b[0m{\n",
      "  \"generations\": [\n",
      "    [\n",
      "      {\n",
      "        \"text\": \"To make pizza, you will need the following ingredients:\\n\\n- Pizza dough\\n- Pizza sauce\\n- Cheese (such as mozzarella)\\n- Toppings of your choice (such as pepperoni, vegetables, or meats)\\n\\n1. Preheat your oven to the desired temperature (usually around 450-500°F).\\n\\n2. Roll out the pizza dough on a floured surface to your desired thickness.\\n\\n3. Place the dough on a pizza pan or baking sheet.\\n\\n4. Spread a layer of pizza sauce over the dough, leaving a small border around the edges.\\n\\n5. Sprinkle a generous amount of cheese over the sauce.\\n\\n6. Add your desired toppings on top of the cheese.\\n\\n7. Bake the pizza in the preheated oven for about 10-15 minutes, or until the crust is golden brown and the cheese is melted and bubbly.\\n\\n8. Remove the pizza from the oven and let it cool for a few minutes before slicing and serving. Enjoy your homemade pizza!\",\n",
      "        \"generation_info\": {\n",
      "          \"finish_reason\": \"stop\"\n",
      "        },\n",
      "        \"type\": \"ChatGeneration\",\n",
      "        \"message\": {\n",
      "          \"lc\": 1,\n",
      "          \"type\": \"constructor\",\n",
      "          \"id\": [\n",
      "            \"langchain\",\n",
      "            \"schema\",\n",
      "            \"messages\",\n",
      "            \"AIMessage\"\n",
      "          ],\n",
      "          \"kwargs\": {\n",
      "            \"content\": \"To make pizza, you will need the following ingredients:\\n\\n- Pizza dough\\n- Pizza sauce\\n- Cheese (such as mozzarella)\\n- Toppings of your choice (such as pepperoni, vegetables, or meats)\\n\\n1. Preheat your oven to the desired temperature (usually around 450-500°F).\\n\\n2. Roll out the pizza dough on a floured surface to your desired thickness.\\n\\n3. Place the dough on a pizza pan or baking sheet.\\n\\n4. Spread a layer of pizza sauce over the dough, leaving a small border around the edges.\\n\\n5. Sprinkle a generous amount of cheese over the sauce.\\n\\n6. Add your desired toppings on top of the cheese.\\n\\n7. Bake the pizza in the preheated oven for about 10-15 minutes, or until the crust is golden brown and the cheese is melted and bubbly.\\n\\n8. Remove the pizza from the oven and let it cool for a few minutes before slicing and serving. Enjoy your homemade pizza!\",\n",
      "            \"additional_kwargs\": {}\n",
      "          }\n",
      "        }\n",
      "      }\n",
      "    ]\n",
      "  ],\n",
      "  \"llm_output\": null,\n",
      "  \"run\": null\n",
      "}\n"
     ]
    },
    {
     "data": {
      "text/plain": [
       "'To make pizza, you will need the following ingredients:\\n\\n- Pizza dough\\n- Pizza sauce\\n- Cheese (such as mozzarella)\\n- Toppings of your choice (such as pepperoni, vegetables, or meats)\\n\\n1. Preheat your oven to the desired temperature (usually around 450-500°F).\\n\\n2. Roll out the pizza dough on a floured surface to your desired thickness.\\n\\n3. Place the dough on a pizza pan or baking sheet.\\n\\n4. Spread a layer of pizza sauce over the dough, leaving a small border around the edges.\\n\\n5. Sprinkle a generous amount of cheese over the sauce.\\n\\n6. Add your desired toppings on top of the cheese.\\n\\n7. Bake the pizza in the preheated oven for about 10-15 minutes, or until the crust is golden brown and the cheese is melted and bubbly.\\n\\n8. Remove the pizza from the oven and let it cool for a few minutes before slicing and serving. Enjoy your homemade pizza!'"
      ]
     },
     "execution_count": 49,
     "metadata": {},
     "output_type": "execute_result"
    }
   ],
   "source": [
    "from langchain.chat_models import ChatOpenAI\n",
    "from langchain.callbacks import StreamingStdOutCallbackHandler\n",
    "from langchain.globals import set_llm_cache, set_debug\n",
    "from langchain.cache import InMemoryCache, SQLiteCache\n",
    "\n",
    "# Will be deleted once the system is rebooted (ephemeral)\n",
    "# set_llm_cache(InMemoryCache())\n",
    "\n",
    "# Create persistent caching db in the filedirectory using third party db\n",
    "set_llm_cache(SQLiteCache(\"cache.db\"))\n",
    "set_debug(True)\n",
    "chat = ChatOpenAI(\n",
    "    # temperature=0.1,\n",
    "    # streaming=True,\n",
    "    # callbacks=[\n",
    "    #     StreamingStdOutCallbackHandler(),\n",
    "    # ],\n",
    ")\n",
    "\n",
    "chat.predict(\"How do you make pizza?\")"
   ]
  },
  {
   "cell_type": "code",
   "execution_count": 50,
   "metadata": {},
   "outputs": [
    {
     "name": "stdout",
     "output_type": "stream",
     "text": [
      "\u001b[32;1m\u001b[1;3m[llm/start]\u001b[0m \u001b[1m[1:llm:ChatOpenAI] Entering LLM run with input:\n",
      "\u001b[0m{\n",
      "  \"prompts\": [\n",
      "    \"Human: How do you make pizza?\"\n",
      "  ]\n",
      "}\n",
      "\u001b[36;1m\u001b[1;3m[llm/end]\u001b[0m \u001b[1m[1:llm:ChatOpenAI] [1ms] Exiting LLM run with output:\n",
      "\u001b[0m{\n",
      "  \"generations\": [\n",
      "    [\n",
      "      {\n",
      "        \"text\": \"To make pizza, you will need the following ingredients:\\n\\n- Pizza dough\\n- Pizza sauce\\n- Cheese (such as mozzarella)\\n- Toppings of your choice (such as pepperoni, vegetables, or meats)\\n\\n1. Preheat your oven to the desired temperature (usually around 450-500°F).\\n\\n2. Roll out the pizza dough on a floured surface to your desired thickness.\\n\\n3. Place the dough on a pizza pan or baking sheet.\\n\\n4. Spread a layer of pizza sauce over the dough, leaving a small border around the edges.\\n\\n5. Sprinkle a generous amount of cheese over the sauce.\\n\\n6. Add your desired toppings on top of the cheese.\\n\\n7. Bake the pizza in the preheated oven for about 10-15 minutes, or until the crust is golden brown and the cheese is melted and bubbly.\\n\\n8. Remove the pizza from the oven and let it cool for a few minutes before slicing and serving. Enjoy your homemade pizza!\",\n",
      "        \"generation_info\": {\n",
      "          \"finish_reason\": \"stop\"\n",
      "        },\n",
      "        \"type\": \"ChatGeneration\",\n",
      "        \"message\": {\n",
      "          \"lc\": 1,\n",
      "          \"type\": \"constructor\",\n",
      "          \"id\": [\n",
      "            \"langchain\",\n",
      "            \"schema\",\n",
      "            \"messages\",\n",
      "            \"AIMessage\"\n",
      "          ],\n",
      "          \"kwargs\": {\n",
      "            \"content\": \"To make pizza, you will need the following ingredients:\\n\\n- Pizza dough\\n- Pizza sauce\\n- Cheese (such as mozzarella)\\n- Toppings of your choice (such as pepperoni, vegetables, or meats)\\n\\n1. Preheat your oven to the desired temperature (usually around 450-500°F).\\n\\n2. Roll out the pizza dough on a floured surface to your desired thickness.\\n\\n3. Place the dough on a pizza pan or baking sheet.\\n\\n4. Spread a layer of pizza sauce over the dough, leaving a small border around the edges.\\n\\n5. Sprinkle a generous amount of cheese over the sauce.\\n\\n6. Add your desired toppings on top of the cheese.\\n\\n7. Bake the pizza in the preheated oven for about 10-15 minutes, or until the crust is golden brown and the cheese is melted and bubbly.\\n\\n8. Remove the pizza from the oven and let it cool for a few minutes before slicing and serving. Enjoy your homemade pizza!\",\n",
      "            \"additional_kwargs\": {}\n",
      "          }\n",
      "        }\n",
      "      }\n",
      "    ]\n",
      "  ],\n",
      "  \"llm_output\": null,\n",
      "  \"run\": null\n",
      "}\n"
     ]
    },
    {
     "data": {
      "text/plain": [
       "'To make pizza, you will need the following ingredients:\\n\\n- Pizza dough\\n- Pizza sauce\\n- Cheese (such as mozzarella)\\n- Toppings of your choice (such as pepperoni, vegetables, or meats)\\n\\n1. Preheat your oven to the desired temperature (usually around 450-500°F).\\n\\n2. Roll out the pizza dough on a floured surface to your desired thickness.\\n\\n3. Place the dough on a pizza pan or baking sheet.\\n\\n4. Spread a layer of pizza sauce over the dough, leaving a small border around the edges.\\n\\n5. Sprinkle a generous amount of cheese over the sauce.\\n\\n6. Add your desired toppings on top of the cheese.\\n\\n7. Bake the pizza in the preheated oven for about 10-15 minutes, or until the crust is golden brown and the cheese is melted and bubbly.\\n\\n8. Remove the pizza from the oven and let it cool for a few minutes before slicing and serving. Enjoy your homemade pizza!'"
      ]
     },
     "execution_count": 50,
     "metadata": {},
     "output_type": "execute_result"
    }
   ],
   "source": [
    "chat.predict(\"How do you make pizza?\")"
   ]
  }
 ],
 "metadata": {
  "kernelspec": {
   "display_name": "env",
   "language": "python",
   "name": "python3"
  },
  "language_info": {
   "codemirror_mode": {
    "name": "ipython",
    "version": 3
   },
   "file_extension": ".py",
   "mimetype": "text/x-python",
   "name": "python",
   "nbconvert_exporter": "python",
   "pygments_lexer": "ipython3",
   "version": "3.11.6"
  }
 },
 "nbformat": 4,
 "nbformat_minor": 2
}
