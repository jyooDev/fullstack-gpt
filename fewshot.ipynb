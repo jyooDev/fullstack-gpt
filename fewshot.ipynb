{
 "cells": [
  {
   "cell_type": "code",
   "execution_count": 21,
   "metadata": {},
   "outputs": [
    {
     "name": "stdout",
     "output_type": "stream",
     "text": [
      "\n",
      "        Here is what I know:\n",
      "        Director: Richard Linklater\n",
      "        Main Cast: Jack Black (Dewey Finn), Joan Cusack (Rosalie Mullins), Mike White (Ned Schneebly), Sarah Silverman (Patty Di Marco)\n",
      "        Budget: $35 million\n",
      "        Box Office Revenue: $131.3 million\n",
      "        Genre: Comedy, Music\n",
      "        Quick Synopsis: School of Rock is a feel-good comedy film about Dewey Finn, a struggling rock musician who poses as a substitute teacher at a prestigious prep school. Instead of teaching traditional subjects, Dewey forms a rock band with his young students to compete in a Battle of the Bands competition. Through music, Dewey helps the students discover their talents, build confidence, and challenge the school's rigid academic culture. The film celebrates the power of music, creativity, and individuality."
     ]
    },
    {
     "data": {
      "text/plain": [
       "AIMessageChunk(content=\"\\n        Here is what I know:\\n        Director: Richard Linklater\\n        Main Cast: Jack Black (Dewey Finn), Joan Cusack (Rosalie Mullins), Mike White (Ned Schneebly), Sarah Silverman (Patty Di Marco)\\n        Budget: $35 million\\n        Box Office Revenue: $131.3 million\\n        Genre: Comedy, Music\\n        Quick Synopsis: School of Rock is a feel-good comedy film about Dewey Finn, a struggling rock musician who poses as a substitute teacher at a prestigious prep school. Instead of teaching traditional subjects, Dewey forms a rock band with his young students to compete in a Battle of the Bands competition. Through music, Dewey helps the students discover their talents, build confidence, and challenge the school's rigid academic culture. The film celebrates the power of music, creativity, and individuality.\")"
      ]
     },
     "execution_count": 21,
     "metadata": {},
     "output_type": "execute_result"
    }
   ],
   "source": [
    "from langchain.chat_models.openai import ChatOpenAI\n",
    "from langchain.prompts import PromptTemplate, ChatPromptTemplate, FewShotChatMessagePromptTemplate, FewShotPromptTemplate\n",
    "from langchain.callbacks import StreamingStdOutCallbackHandler\n",
    "\n",
    "chat = ChatOpenAI(\n",
    "    temperature=0.1,\n",
    "    streaming=True,\n",
    "    callbacks=[\n",
    "        StreamingStdOutCallbackHandler()\n",
    "    ]\n",
    ")\n",
    "\n",
    "\n",
    "examples = [\n",
    "    {\n",
    "        \"question\": \"What do you know about Titanic?\",\n",
    "        \"answer\":\"\"\"\n",
    "        Here is what I know:\n",
    "        Director: James Cameron\n",
    "        Main Cast: Leonardo DiCaprio (Jack Dawson), Kate Winslet (Rose DeWitt Bukater), Billy Zane (Cal Hockley)\n",
    "        Budget: $200 million\n",
    "        Box Office Revenue: $2.195 billion\n",
    "        Genre: Romance, Drama, Disaster\n",
    "        Quick Synopsis: Titanic is a love story set against the ill-fated maiden voyage of the R.M.S. Titanic. Jack, a poor artist, and Rose, an aristocratic young woman, fall in love aboard the ship despite their different social standings. The film portrays their romance, the tragic sinking of the ship, and the struggles for survival as the disaster unfolds.\n",
    "        \"\"\" \n",
    "    },\n",
    "    {\n",
    "        \"question\": \"What do you know about  Spider-Man 3?\",\n",
    "        \"answer\":\"\"\"\n",
    "        Here is what I know:\n",
    "        Director: Sam Raimi\n",
    "        Main Cast: Tobey Maguire (Peter Parker / Spider-Man), Kirsten Dunst (Mary Jane Watson), James Franco (Harry Osborn), Thomas Haden Church (Flint Marko / Sandman), Topher Grace (Eddie Brock / Venom)\n",
    "        Budget: $258 million\n",
    "        Box Office Revenue: $894.9 million\n",
    "        Genre: Superhero, Action, Fantasy\n",
    "        Quick Synopsis: Spider-Man 3 follows Peter Parker as he struggles with the responsibilities of being Spider-Man, his relationship with Mary Jane, and new threats, including the vengeful Harry Osborn, who takes on the identity of the New Goblin, the Sandman, who has a tragic connection to Peter's past, and the emergence of the dark and powerful alien symbiote that transforms Peter into a more aggressive version of himself. The film explores themes of redemption, forgiveness, and the internal battle between good and evil.\n",
    "        \"\"\" \n",
    "    },\n",
    "    {\n",
    "        \"question\": \"What do you know about Parasite?\",\n",
    "        \"answer\":\"\"\"\n",
    "        Here is what I know:\n",
    "        Director: Bong Joon-ho\n",
    "        Main Cast: Song Kang-ho (Kim Ki-taek), Lee Sun-kyun (Park Dong-ik), Cho Yeo-jeong (Choi Yeon-gyo), Choi Woo-shik (Kim Ki-woo), Park So-dam (Kim Ki-jung)\n",
    "        Budget: $11 million\n",
    "        Box Office Revenue: $263.1 million\n",
    "        Genre: Thriller, Drama, Dark Comedy\n",
    "        Quick Synopsis: Parasite is a critically acclaimed South Korean film that explores class disparities and social inequalities. The story follows the poor Kim family, who scheme to infiltrate the wealthy Park family's household by posing as unrelated, highly qualified individuals. As the Kims take over various jobs within the Park family, their deception leads to unexpected and increasingly dangerous consequences, culminating in a dramatic and thought-provoking commentary on society's divisions.\n",
    "        \"\"\"  \n",
    "    },  \n",
    "]\n",
    "\n",
    "# ChatPromptTemplate.from_messages sets up the prompt template by automatically handling variables like {movie} and {answer} within the structured messages.\n",
    "manual_example_prompt = ChatPromptTemplate.from_messages([\n",
    "    (\"human\", \"{question}\"),\n",
    "    (\"ai\", \"{answer}\")\n",
    "])\n",
    "\n",
    "# FewShotChatMessagePromptTemplate: Helps format the LLM's output by providing examples, guiding it to mimic the structure and style of the provided data.\n",
    "learning_prompt = FewShotChatMessagePromptTemplate(\n",
    "    example_prompt = manual_example_prompt,\n",
    "    examples=examples   \n",
    ")\n",
    "\n",
    "# Finally, with the few-shot prompt (informed by the examples), we ask the question.\n",
    "final_prompt = ChatPromptTemplate.from_messages([\n",
    "    (\"system\", \"You are a movie expert\"),\n",
    "    learning_prompt,\n",
    "    (\"human\", \"What do you know about {movie}?\"),\n",
    "])\n",
    "\n",
    "chain = final_prompt | chat\n",
    "\n",
    "chain.invoke({\"movie\": \"School Of Rock\"})"
   ]
  },
  {
   "cell_type": "code",
   "execution_count": 34,
   "metadata": {},
   "outputs": [
    {
     "data": {
      "text/plain": [
       "'Human: What do you know about Titanic?\\nAI:\\n        Here is what I know:\\n        Director: James Cameron\\n        Main Cast: Leonardo DiCaprio (Jack Dawson), Kate Winslet (Rose DeWitt Bukater), Billy Zane (Cal Hockley)\\n        Budget: $200 million\\n        Box Office Revenue: $2.195 billion\\n        Genre: Romance, Drama, Disaster\\n        Quick Synopsis: Titanic is a love story set against the ill-fated maiden voyage of the R.M.S. Titanic. Jack, a poor artist, and Rose, an aristocratic young woman, fall in love aboard the ship despite their different social standings. The film portrays their romance, the tragic sinking of the ship, and the struggles for survival as the disaster unfolds.\\n        \\n\\nHuman: What do you know about Parasite?'"
      ]
     },
     "execution_count": 34,
     "metadata": {},
     "output_type": "execute_result"
    }
   ],
   "source": [
    "# LengthBasedExampleSelector\n",
    "from langchain.prompts.example_selector import LengthBasedExampleSelector\n",
    "\n",
    "example_prompt = PromptTemplate.from_template(\"Human: {question}\\nAI:{answer}\")\n",
    "\n",
    "example_selector = LengthBasedExampleSelector(\n",
    "    examples = examples,\n",
    "    example_prompt = example_prompt,\n",
    "    max_length = 180,\n",
    ")\n",
    "\n",
    "prompt = FewShotPromptTemplate(\n",
    "    example_prompt = example_prompt,\n",
    "    example_selector = example_selector,\n",
    "    suffix = \"Human: What do you know about {movie}?\",\n",
    "    input_variables = [\"movie\"],\n",
    ")\n",
    "\n",
    "prompt.format(movie = \"Parasite\")"
   ]
  },
  {
   "cell_type": "code",
   "execution_count": 39,
   "metadata": {},
   "outputs": [
    {
     "data": {
      "text/plain": [
       "\"Human: What do you know about Titanic?\\nAI:\\n        Here is what I know:\\n        Director: James Cameron\\n        Main Cast: Leonardo DiCaprio (Jack Dawson), Kate Winslet (Rose DeWitt Bukater), Billy Zane (Cal Hockley)\\n        Budget: $200 million\\n        Box Office Revenue: $2.195 billion\\n        Genre: Romance, Drama, Disaster\\n        Quick Synopsis: Titanic is a love story set against the ill-fated maiden voyage of the R.M.S. Titanic. Jack, a poor artist, and Rose, an aristocratic young woman, fall in love aboard the ship despite their different social standings. The film portrays their romance, the tragic sinking of the ship, and the struggles for survival as the disaster unfolds.\\n        \\n\\nHuman: What do you know about Parasite?\\nAI:\\n        Here is what I know:\\n        Director: Bong Joon-ho\\n        Main Cast: Song Kang-ho (Kim Ki-taek), Lee Sun-kyun (Park Dong-ik), Cho Yeo-jeong (Choi Yeon-gyo), Choi Woo-shik (Kim Ki-woo), Park So-dam (Kim Ki-jung)\\n        Budget: $11 million\\n        Box Office Revenue: $263.1 million\\n        Genre: Thriller, Drama, Dark Comedy\\n        Quick Synopsis: Parasite is a critically acclaimed South Korean film that explores class disparities and social inequalities. The story follows the poor Kim family, who scheme to infiltrate the wealthy Park family's household by posing as unrelated, highly qualified individuals. As the Kims take over various jobs within the Park family, their deception leads to unexpected and increasingly dangerous consequences, culminating in a dramatic and thought-provoking commentary on society's divisions.\\n        \\n\\nHuman: What do you know about Parasite?\""
      ]
     },
     "execution_count": 39,
     "metadata": {},
     "output_type": "execute_result"
    }
   ],
   "source": [
    "# Create custom selector for movies\n",
    "from typing import Dict, List\n",
    "from langchain.prompts.example_selector.base import BaseExampleSelector\n",
    "\n",
    "class GenreBasedMovieExampleSelector(BaseExampleSelector):\n",
    "\n",
    "    def __init__(self, examples, genre):\n",
    "        self.examples = examples\n",
    "        self.genre = genre\n",
    "    \n",
    "    def add_example(self, example):\n",
    "        self.examples.append(example)\n",
    "\n",
    "    def select_examples(self, input_variables: Dict[str, str]) -> List[dict]:\n",
    "        input_genres = self.genre.split(\", \")\n",
    "        \n",
    "        filtered_examples = [\n",
    "            example for example in self.examples\n",
    "            if any(genre.lower() in example.get(\"answer\", \"\").lower() for genre in input_genres)\n",
    "        ]\n",
    "\n",
    "        if not filtered_examples:\n",
    "            print(f\"No examples found for genres: {self.genre}\")\n",
    "            return []\n",
    "        \n",
    "        return filtered_examples\n",
    "    \n",
    "example_selector = GenreBasedMovieExampleSelector(\n",
    "    examples = examples,\n",
    "    genre = \"Comedy, romance\",\n",
    ")\n",
    "\n",
    "prompt = FewShotPromptTemplate(\n",
    "    example_prompt = example_prompt,\n",
    "    example_selector = example_selector,\n",
    "    suffix = \"Human: What do you know about {movie}?\",\n",
    "    input_variables = [\"movie\"],\n",
    ")\n",
    "\n",
    "prompt.format(movie = \"Parasite\")"
   ]
  },
  {
   "cell_type": "code",
   "execution_count": null,
   "metadata": {},
   "outputs": [],
   "source": []
  }
 ],
 "metadata": {
  "kernelspec": {
   "display_name": "env",
   "language": "python",
   "name": "python3"
  },
  "language_info": {
   "codemirror_mode": {
    "name": "ipython",
    "version": 3
   },
   "file_extension": ".py",
   "mimetype": "text/x-python",
   "name": "python",
   "nbconvert_exporter": "python",
   "pygments_lexer": "ipython3",
   "version": "3.11.6"
  }
 },
 "nbformat": 4,
 "nbformat_minor": 2
}
